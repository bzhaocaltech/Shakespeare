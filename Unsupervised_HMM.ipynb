{
 "cells": [
  {
   "cell_type": "code",
   "execution_count": 1,
   "metadata": {},
   "outputs": [],
   "source": [
    "import pickle\n",
    "from HMM import *\n",
    "import string"
   ]
  },
  {
   "cell_type": "code",
   "execution_count": 2,
   "metadata": {},
   "outputs": [],
   "source": [
    "line_data = pickle.load(open(\"data/line_data.p\", \"rb\"))\n",
    "stanza_data = pickle.load(open(\"data/stanza_data.p\", \"rb\"))\n",
    "poem_data = pickle.load(open(\"data/poem_data.p\", \"rb\"))"
   ]
  },
  {
   "cell_type": "code",
   "execution_count": 3,
   "metadata": {},
   "outputs": [],
   "source": [
    "# Set all words to lower case\n",
    "for line in line_data:\n",
    "    for word_num, word in enumerate(line):\n",
    "        if word != \"I\":\n",
    "            line[word_num] = word.lower()\n",
    "        \n",
    "# Set all words to lower case\n",
    "for stanza in stanza_data:\n",
    "    for word_num, word in enumerate(stanza):\n",
    "        if word != \"I\":\n",
    "            stanza[word_num] = word.lower()\n",
    "            \n",
    "# Set all words to lower case\n",
    "for poem in poem_data:\n",
    "    for word_num, word in enumerate(poem):\n",
    "        if word != \"I\":\n",
    "            poem[word_num] = word.lower()"
   ]
  },
  {
   "cell_type": "code",
   "execution_count": 4,
   "metadata": {},
   "outputs": [],
   "source": [
    "# Takes in a list of 14 string arrays representing a poem.\n",
    "# Prints it out in a nice format, capitalizing the first letter\n",
    "# and identing couplet\n",
    "def print_poem(poem):\n",
    "    edited_poem = []\n",
    "    for i, line in enumerate(poem):\n",
    "        line[0] = string.capwords(line[0])\n",
    "        edited_poem.append(' '.join(line))\n",
    "    for i in range(12):\n",
    "        print(edited_poem[i])\n",
    "    print('\\t' + edited_poem[12])\n",
    "    print('\\t' + edited_poem[13])"
   ]
  },
  {
   "cell_type": "code",
   "execution_count": 5,
   "metadata": {},
   "outputs": [],
   "source": [
    "# Generates a poem given a HMM\n",
    "def generate_poem(HMM):\n",
    "    poem = []\n",
    "    for i in range(14):\n",
    "        line, _ = HMM.generate_emission(10)\n",
    "        poem.append(line)\n",
    "    print_poem(poem)"
   ]
  },
  {
   "cell_type": "code",
   "execution_count": 6,
   "metadata": {},
   "outputs": [
    {
     "name": "stdout",
     "output_type": "stream",
     "text": [
      "Iteration: 10\n",
      "Iteration: 20\n",
      "Iteration: 30\n",
      "Iteration: 40\n",
      "Iteration: 50\n",
      "Iteration: 60\n",
      "Iteration: 70\n",
      "Iteration: 80\n",
      "Iteration: 90\n",
      "Iteration: 100\n"
     ]
    }
   ],
   "source": [
    "HMM = unsupervised_HMM(line_data, 10, 100)"
   ]
  },
  {
   "cell_type": "code",
   "execution_count": 7,
   "metadata": {},
   "outputs": [
    {
     "name": "stdout",
     "output_type": "stream",
     "text": [
      "Fill in kingly it is muse parts beauty\n",
      "Have is see with due surly false pleased bright\n",
      "To as soul married creation doth death\n",
      "Remove so as state half riches gazing\n",
      "From days fire a me as decrepit all\n",
      "Went mistake my debate is breast spoils quite\n",
      "But be words and thou that others in I\n",
      "The tan large and in good truth charter great\n",
      "Diest each thus kind live melancholy thy\n",
      "My of I thought my are lov'st be in days\n",
      "Are back blood this the hours wherefore sweet\n",
      "Be and am thy I brand is't mind from thou\n",
      "\tOf whether the and not is my merchandized\n",
      "\tDost with unstained from better I with\n"
     ]
    }
   ],
   "source": [
    "generate_poem(HMM)"
   ]
  },
  {
   "cell_type": "code",
   "execution_count": 8,
   "metadata": {},
   "outputs": [
    {
     "name": "stdout",
     "output_type": "stream",
     "text": [
      "Iteration: 10\n",
      "Iteration: 20\n",
      "Iteration: 30\n",
      "Iteration: 40\n",
      "Iteration: 50\n",
      "Iteration: 60\n",
      "Iteration: 70\n",
      "Iteration: 80\n",
      "Iteration: 90\n",
      "Iteration: 100\n"
     ]
    }
   ],
   "source": [
    "HMM = unsupervised_HMM(stanza_data, 10, 100)"
   ]
  },
  {
   "cell_type": "code",
   "execution_count": 9,
   "metadata": {},
   "outputs": [
    {
     "name": "stdout",
     "output_type": "stream",
     "text": [
      "State seeting such half disgrace vision do\n",
      "And whate'er I till merchandized self the\n",
      "Cheer hell foul where for a confined and plead\n",
      "All this love rarities to no jealous\n",
      "Fortify house ere thou were god so my\n",
      "Being to put sicken of day the masked his\n",
      "Bare angel it them achieve to sweetest\n",
      "Says of this were not wond'ring soft prayers use\n",
      "Posting yet where should long on to such and\n",
      "Rudely form and all that sin ruined quick\n",
      "First and who am love as yet keep is doth\n",
      "If let reasons fair their wardrobe dwellers\n",
      "\tFor that they lawful thou stick'st doth ah dearths\n",
      "\tFirst you to robs eye's ranks praise wished music\n"
     ]
    }
   ],
   "source": [
    "generate_poem(HMM)"
   ]
  },
  {
   "cell_type": "code",
   "execution_count": 10,
   "metadata": {},
   "outputs": [
    {
     "name": "stdout",
     "output_type": "stream",
     "text": [
      "Iteration: 10\n",
      "Iteration: 20\n",
      "Iteration: 30\n",
      "Iteration: 40\n",
      "Iteration: 50\n",
      "Iteration: 60\n",
      "Iteration: 70\n",
      "Iteration: 80\n",
      "Iteration: 90\n",
      "Iteration: 100\n"
     ]
    }
   ],
   "source": [
    "HMM = unsupervised_HMM(poem_data, 10, 100)"
   ]
  },
  {
   "cell_type": "code",
   "execution_count": 11,
   "metadata": {},
   "outputs": [
    {
     "name": "stdout",
     "output_type": "stream",
     "text": [
      "The to the desire my every age's\n",
      "And near will my lesson edge to bitter\n",
      "And gone eclipses leave should and noted\n",
      "Best earth grow'st love's when but away for I\n",
      "Goddess wrought never why the nature nor\n",
      "Have I that affords the and looks common\n",
      "Even makes must thy heart thy outward is granting\n",
      "Mansion dumb in can is yours break abhor\n",
      "Earth and wantonness be makes seals make told\n",
      "Despite from legions show without lays nor\n",
      "On red all self eyes me can the to thy\n",
      "Of to against and one I now daily\n",
      "\tI doing laid this heart summer a none\n",
      "\tThere and me praise is engraft mourn due doth\n"
     ]
    }
   ],
   "source": [
    "generate_poem(HMM)"
   ]
  },
  {
   "cell_type": "code",
   "execution_count": null,
   "metadata": {},
   "outputs": [],
   "source": []
  }
 ],
 "metadata": {
  "kernelspec": {
   "display_name": "Python 3",
   "language": "python",
   "name": "python3"
  },
  "language_info": {
   "codemirror_mode": {
    "name": "ipython",
    "version": 3
   },
   "file_extension": ".py",
   "mimetype": "text/x-python",
   "name": "python",
   "nbconvert_exporter": "python",
   "pygments_lexer": "ipython3",
   "version": "3.5.2"
  }
 },
 "nbformat": 4,
 "nbformat_minor": 2
}
