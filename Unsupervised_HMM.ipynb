{
 "cells": [
  {
   "cell_type": "code",
   "execution_count": 1,
   "metadata": {},
   "outputs": [],
   "source": [
    "import pickle\n",
    "from HMM import *\n",
    "import string"
   ]
  },
  {
   "cell_type": "code",
   "execution_count": 2,
   "metadata": {},
   "outputs": [],
   "source": [
    "line_data = pickle.load(open(\"data/line_data.p\", \"rb\"))\n",
    "stanza_data = pickle.load(open(\"data/stanza_data.p\", \"rb\"))\n",
    "poem_data = pickle.load(open(\"data/poem_data.p\", \"rb\"))"
   ]
  },
  {
   "cell_type": "code",
   "execution_count": 3,
   "metadata": {},
   "outputs": [],
   "source": [
    "# Set all words to lower case\n",
    "for line in line_data:\n",
    "    for word_num, word in enumerate(line):\n",
    "        if word != \"I\":\n",
    "            line[word_num] = word.lower()\n",
    "        \n",
    "# Set all words to lower case\n",
    "for stanza in stanza_data:\n",
    "    for word_num, word in enumerate(stanza):\n",
    "        if word != \"I\":\n",
    "            stanza[word_num] = word.lower()\n",
    "            \n",
    "# Set all words to lower case\n",
    "for poem in poem_data:\n",
    "    for word_num, word in enumerate(poem):\n",
    "        if word != \"I\":\n",
    "            poem[word_num] = word.lower()"
   ]
  },
  {
   "cell_type": "code",
   "execution_count": 4,
   "metadata": {},
   "outputs": [],
   "source": [
    "# Takes in a list of 14 string arrays representing a poem.\n",
    "# Prints it out in a nice format, capitalizing the first letter\n",
    "# and identing couplet\n",
    "def print_poem(poem):\n",
    "    edited_poem = []\n",
    "    for i, line in enumerate(poem):\n",
    "        line[0] = string.capwords(line[0])\n",
    "        edited_poem.append(' '.join(line))\n",
    "    for i in range(12):\n",
    "        print(edited_poem[i])\n",
    "    print('\\t' + edited_poem[12])\n",
    "    print('\\t' + edited_poem[13])"
   ]
  },
  {
   "cell_type": "code",
   "execution_count": 5,
   "metadata": {},
   "outputs": [],
   "source": [
    "# Generates a shakspearean sonnet given a HMM\n",
    "def generate_poem(HMM):\n",
    "    poem = []\n",
    "    for i in range(14):\n",
    "        line, _ = HMM.generate_emission(10)\n",
    "        poem.append(line)\n",
    "    print_poem(poem)"
   ]
  },
  {
   "cell_type": "code",
   "execution_count": 6,
   "metadata": {},
   "outputs": [],
   "source": [
    "def generate_haiku(HMM):\n",
    "    haiku = HMM.generate_haiku()\n",
    "    for line in haiku:\n",
    "        print(' '.join(line))"
   ]
  },
  {
   "cell_type": "code",
   "execution_count": 7,
   "metadata": {},
   "outputs": [],
   "source": [
    "def generate_sonnet(HMM):\n",
    "    sonnet = HMM.generate_sonnet()\n",
    "    for line in sonnet:\n",
    "        print(' '.join(line))"
   ]
  },
  {
   "cell_type": "code",
   "execution_count": 10,
   "metadata": {},
   "outputs": [
    {
     "name": "stdout",
     "output_type": "stream",
     "text": [
      "Iteration: 10\n",
      "Iteration: 20\n",
      "Iteration: 30\n",
      "Iteration: 40\n",
      "Iteration: 50\n",
      "Iteration: 60\n",
      "Iteration: 70\n"
     ]
    }
   ],
   "source": [
    "HMM = unsupervised_HMM(stanza_data, 15, 75)"
   ]
  },
  {
   "cell_type": "code",
   "execution_count": 9,
   "metadata": {},
   "outputs": [
    {
     "name": "stdout",
     "output_type": "stream",
     "text": [
      "to yet distilled thought and had thou not friend\n",
      "although praising that boot yet to but you\n",
      "so rainy thou the you the to when spend\n",
      "eye sullen know not my as back untrue\n",
      "his that the at and blunting man time have\n",
      "should silence ink me what's triumph not shame\n",
      "come of thus your in thou my course what grave\n",
      "lifts minion look disdains to which thou name\n",
      "sin guilty then thoughts of to young more is\n",
      "do that I of but 'gainst upon me strong\n",
      "ever show so my to and and amiss\n",
      "I words my to thou such if to belong\n",
      "truth rain be with their dear as the upon\n",
      "through self more my this it stealing my moan\n"
     ]
    }
   ],
   "source": [
    "generate_sonnet(HMM)"
   ]
  },
  {
   "cell_type": "code",
   "execution_count": 11,
   "metadata": {},
   "outputs": [
    {
     "name": "stdout",
     "output_type": "stream",
     "text": [
      "to writ and cupid\n",
      "promise of day more that see\n",
      "own that thee art tame\n"
     ]
    }
   ],
   "source": [
    "generate_haiku(HMM)"
   ]
  },
  {
   "cell_type": "code",
   "execution_count": 12,
   "metadata": {},
   "outputs": [
    {
     "name": "stdout",
     "output_type": "stream",
     "text": [
      "Iteration: 10\n",
      "Iteration: 20\n",
      "Iteration: 30\n",
      "Iteration: 40\n",
      "Iteration: 50\n",
      "Iteration: 60\n",
      "Iteration: 70\n"
     ]
    }
   ],
   "source": [
    "HMM = unsupervised_HMM(poem_data, 15, 75)"
   ]
  },
  {
   "cell_type": "code",
   "execution_count": 13,
   "metadata": {},
   "outputs": [
    {
     "name": "stdout",
     "output_type": "stream",
     "text": [
      "heaven when assistance ill because behold\n",
      "base own thy morn lies to I that love mine\n",
      "these is that eyes as winter love five old\n",
      "day nor is so live thine thou thine define\n",
      "like past with never-resting gains of love\n",
      "more not ten to my augurs did I art\n",
      "thou when let thy sweet show or self remove\n",
      "that not is was for grew to love and part\n",
      "robbed live those find do in sets judgement have\n",
      "not of world's you and to then whose a eye\n",
      "not four I with five living and grow grave\n",
      "to beauty's add inconstant is still die\n",
      "in one will thou rise is his thy night will\n",
      "decease come it it lesson that that still\n"
     ]
    }
   ],
   "source": [
    "generate_sonnet(HMM)"
   ]
  },
  {
   "cell_type": "code",
   "execution_count": 18,
   "metadata": {},
   "outputs": [
    {
     "name": "stdout",
     "output_type": "stream",
     "text": [
      "o me precious that\n",
      "still task then of mine of will\n",
      "bright ne'er tell a 'greeing\n"
     ]
    }
   ],
   "source": [
    "generate_haiku(HMM)"
   ]
  },
  {
   "cell_type": "code",
   "execution_count": null,
   "metadata": {},
   "outputs": [],
   "source": []
  }
 ],
 "metadata": {
  "kernelspec": {
   "display_name": "Python 3",
   "language": "python",
   "name": "python3"
  },
  "language_info": {
   "codemirror_mode": {
    "name": "ipython",
    "version": 3
   },
   "file_extension": ".py",
   "mimetype": "text/x-python",
   "name": "python",
   "nbconvert_exporter": "python",
   "pygments_lexer": "ipython3",
   "version": "3.5.2"
  }
 },
 "nbformat": 4,
 "nbformat_minor": 2
}
