{
 "cells": [
  {
   "cell_type": "code",
   "execution_count": 1,
   "metadata": {},
   "outputs": [],
   "source": [
    "import pickle\n",
    "from HMM import *\n",
    "import string"
   ]
  },
  {
   "cell_type": "code",
   "execution_count": 2,
   "metadata": {},
   "outputs": [],
   "source": [
    "line_data = pickle.load(open(\"data/line_data.p\", \"rb\"))\n",
    "stanza_data = pickle.load(open(\"data/stanza_data.p\", \"rb\"))\n",
    "poem_data = pickle.load(open(\"data/poem_data.p\", \"rb\"))"
   ]
  },
  {
   "cell_type": "code",
   "execution_count": 3,
   "metadata": {},
   "outputs": [],
   "source": [
    "# Set all words to lower case\n",
    "for line in line_data:\n",
    "    for word_num, word in enumerate(line):\n",
    "        if word != \"I\":\n",
    "            line[word_num] = word.lower()\n",
    "        \n",
    "# Set all words to lower case\n",
    "for stanza in stanza_data:\n",
    "    for word_num, word in enumerate(stanza):\n",
    "        if word != \"I\":\n",
    "            stanza[word_num] = word.lower()\n",
    "            \n",
    "# Set all words to lower case\n",
    "for poem in poem_data:\n",
    "    for word_num, word in enumerate(poem):\n",
    "        if word != \"I\":\n",
    "            poem[word_num] = word.lower()"
   ]
  },
  {
   "cell_type": "code",
   "execution_count": 4,
   "metadata": {},
   "outputs": [],
   "source": [
    "# Takes in a list of 14 string arrays representing a poem.\n",
    "# Prints it out in a nice format, capitalizing the first letter\n",
    "# and identing couplet\n",
    "def print_poem(poem):\n",
    "    edited_poem = []\n",
    "    for i, line in enumerate(poem):\n",
    "        line[0] = string.capwords(line[0])\n",
    "        edited_poem.append(' '.join(line))\n",
    "    for i in range(12):\n",
    "        print(edited_poem[i])\n",
    "    print('\\t' + edited_poem[12])\n",
    "    print('\\t' + edited_poem[13])"
   ]
  },
  {
   "cell_type": "code",
   "execution_count": 5,
   "metadata": {},
   "outputs": [],
   "source": [
    "# Generates a shakspearean sonnet given a HMM\n",
    "def generate_poem(HMM):\n",
    "    poem = []\n",
    "    for i in range(14):\n",
    "        line, _ = HMM.generate_emission(10)\n",
    "        poem.append(line)\n",
    "    print_poem(poem)"
   ]
  },
  {
   "cell_type": "code",
   "execution_count": 6,
   "metadata": {},
   "outputs": [],
   "source": [
    "def generate_haiku(HMM):\n",
    "    line, _ = HMM.generate_emission(5)\n",
    "    print(' '.join(line))\n",
    "    line, _ = HMM.generate_emission(7)\n",
    "    print(' '.join(line))\n",
    "    line, _ = HMM.generate_emission(5)\n",
    "    print(' '.join(line))"
   ]
  },
  {
   "cell_type": "code",
   "execution_count": 7,
   "metadata": {},
   "outputs": [],
   "source": [
    "def generate_sonnet(HMM):\n",
    "    line_1, line_3 = HMM.generate_couplet(10)\n",
    "    line_2, line_4 = HMM.generate_couplet(10)\n",
    "    string.capwords(line_1[0])\n",
    "    string.capwords(line_2[0])\n",
    "    string.capwords(line_3[0])\n",
    "    string.capwords(line_4[0])\n",
    "    print(' '.join(line_1))\n",
    "    print(' '.join(line_2))\n",
    "    print(' '.join(line_3))\n",
    "    print(' '.join(line_4))\n",
    "    line_1, line_3 = HMM.generate_couplet(10)\n",
    "    line_2, line_4 = HMM.generate_couplet(10)\n",
    "    string.capwords(line_1[0])\n",
    "    string.capwords(line_2[0])\n",
    "    string.capwords(line_3[0])\n",
    "    string.capwords(line_4[0])\n",
    "    print(' '.join(line_1))\n",
    "    print(' '.join(line_2))\n",
    "    print(' '.join(line_3))\n",
    "    print(' '.join(line_4))\n",
    "    line_1, line_3 = HMM.generate_couplet(10)\n",
    "    line_2, line_4 = HMM.generate_couplet(10)\n",
    "    string.capwords(line_1[0])\n",
    "    string.capwords(line_2[0])\n",
    "    string.capwords(line_3[0])\n",
    "    string.capwords(line_4[0])\n",
    "    print(' '.join(line_1))\n",
    "    print(' '.join(line_2))\n",
    "    print(' '.join(line_3))\n",
    "    print(' '.join(line_4))\n",
    "    line_1, line_2 = HMM.generate_couplet(10)\n",
    "    string.capwords(line_1[0])\n",
    "    string.capwords(line_2[0])\n",
    "    print('\\t' + ' '.join(line_1))\n",
    "    print('\\t' + ' '.join(line_2))"
   ]
  },
  {
   "cell_type": "code",
   "execution_count": 8,
   "metadata": {},
   "outputs": [
    {
     "name": "stdout",
     "output_type": "stream",
     "text": [
      "Iteration: 10\n",
      "Iteration: 20\n",
      "Iteration: 30\n",
      "Iteration: 40\n",
      "Iteration: 50\n",
      "Iteration: 60\n",
      "Iteration: 70\n"
     ]
    }
   ],
   "source": [
    "HMM = unsupervised_HMM(line_data, 15, 75)"
   ]
  },
  {
   "cell_type": "code",
   "execution_count": 9,
   "metadata": {},
   "outputs": [
    {
     "name": "stdout",
     "output_type": "stream",
     "text": [
      "this deep I with thy still an folly now\n",
      "helen's feil that mine bastard shade they make\n",
      "love's with virtuous picture slander and bow\n",
      "be time the write I enrich you edge take\n",
      "thee the that do but do without he I\n",
      "if your master wouldst you must fair love's none\n",
      "love set doth that my dear the art look lie\n",
      "while thine to believe more days a star be\n",
      "and sell wonder to thou world doth play quite\n",
      "my brow which thy well your self render not\n",
      "his title do in thy it of not write\n",
      "my unkindness is gazing in I erred\n",
      "\tcan unset that so discourse name love hold\n",
      "\tto are are defect doth religious still\n"
     ]
    }
   ],
   "source": [
    "generate_sonnet(HMM)"
   ]
  },
  {
   "cell_type": "code",
   "execution_count": 19,
   "metadata": {},
   "outputs": [
    {
     "name": "stdout",
     "output_type": "stream",
     "text": [
      "Iteration: 10\n",
      "Iteration: 20\n",
      "Iteration: 30\n",
      "Iteration: 40\n",
      "Iteration: 50\n",
      "Iteration: 60\n",
      "Iteration: 70\n"
     ]
    }
   ],
   "source": [
    "HMM = unsupervised_HMM(stanza_data, 15, 75)"
   ]
  },
  {
   "cell_type": "code",
   "execution_count": 11,
   "metadata": {},
   "outputs": [
    {
     "name": "stdout",
     "output_type": "stream",
     "text": [
      "which guilty be show what second loves on\n",
      "beams for coming shore knows silvered your men\n",
      "thy heart but for true-telling some help groan\n",
      "mock mine and to this till self daily dross\n",
      "sometime summer's foregone cheek most thus say\n",
      "transfix the sun blushing by skill thought hold\n",
      "show alive keep in said fear love breast way\n",
      "self live some no love beard thereby thou still\n",
      "count true and must live self forgot store is\n",
      "to forbid on finding pride before me\n",
      "go up than on brought all the a soon this\n",
      "born in for 'gainst turns shadows rest thus be\n",
      "\twelcome strength from parts lose his such the hours\n",
      "\tto that drawn too flattery happier rich flowers\n"
     ]
    }
   ],
   "source": [
    "generate_sonnet(HMM)"
   ]
  },
  {
   "cell_type": "code",
   "execution_count": 12,
   "metadata": {},
   "outputs": [
    {
     "name": "stdout",
     "output_type": "stream",
     "text": [
      "Iteration: 10\n",
      "Iteration: 20\n",
      "Iteration: 30\n",
      "Iteration: 40\n",
      "Iteration: 50\n",
      "Iteration: 60\n",
      "Iteration: 70\n"
     ]
    }
   ],
   "source": [
    "HMM = unsupervised_HMM(poem_data, 15, 75)"
   ]
  },
  {
   "cell_type": "code",
   "execution_count": 13,
   "metadata": {},
   "outputs": [
    {
     "name": "stdout",
     "output_type": "stream",
     "text": [
      "thou I resembling his lies tongue's which now\n",
      "and knows female I my and now any\n",
      "sweet over sweet ugly why in dark brow\n",
      "sworn of of can appeal dearest slave many\n",
      "advocate form case in themselves so lover\n",
      "gives since with why more but that black cheek warmed\n",
      "her look all do will can the thy such cover\n",
      "fast declines doth hallowed thy constant hand\n",
      "but love's length some world which thy honour I\n",
      "still hunted I fair sin the lay finds I\n",
      "self thus is hung grows eyes say image lie\n",
      "shall then my mistress for oft store blindness\n",
      "\tsail long be night fight duteous threescore time\n",
      "\ta as yet add heart earth lion's should prime\n"
     ]
    }
   ],
   "source": [
    "generate_sonnet(HMM)"
   ]
  },
  {
   "cell_type": "code",
   "execution_count": 26,
   "metadata": {},
   "outputs": [
    {
     "name": "stdout",
     "output_type": "stream",
     "text": [
      "his sin records from about is a all\n",
      "past false the by instant ill not upon\n",
      "did praising hearts power of part eyes you call\n",
      "my eye friend not so seconds let shouldst moan\n",
      "o'er grown my but the then nor no lose rest\n",
      "then of o 'gainst me plea fault thine i'll fade\n",
      "sold praise living me that I on his best\n",
      "and april left white love love and might made\n",
      "that thou my day skill all that lines health all\n",
      "odours are hours ever-fixed this true\n",
      "looking question my virtue at like call\n",
      "once where so might have I swear their anew\n",
      "\tmute is thy love by swearing on near was\n",
      "\tthat 'tis self go to eat confined since glass\n"
     ]
    }
   ],
   "source": [
    "rhyme_dict = pickle.load(open(\"data/rhyme_dict.p\", \"rb\"))\n",
    "HMM.rhyme_dict = rhyme_dict\n",
    "generate_sonnet(HMM)"
   ]
  },
  {
   "cell_type": "code",
   "execution_count": null,
   "metadata": {},
   "outputs": [],
   "source": []
  }
 ],
 "metadata": {
  "kernelspec": {
   "display_name": "Python 3",
   "language": "python",
   "name": "python3"
  },
  "language_info": {
   "codemirror_mode": {
    "name": "ipython",
    "version": 3
   },
   "file_extension": ".py",
   "mimetype": "text/x-python",
   "name": "python",
   "nbconvert_exporter": "python",
   "pygments_lexer": "ipython3",
   "version": "3.5.2"
  }
 },
 "nbformat": 4,
 "nbformat_minor": 2
}
