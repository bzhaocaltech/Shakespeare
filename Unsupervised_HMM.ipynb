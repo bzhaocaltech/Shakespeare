{
 "cells": [
  {
   "cell_type": "code",
   "execution_count": 15,
   "metadata": {},
   "outputs": [],
   "source": [
    "import pickle\n",
    "from HMM import *\n",
    "import string"
   ]
  },
  {
   "cell_type": "code",
   "execution_count": 2,
   "metadata": {},
   "outputs": [],
   "source": [
    "line_data = pickle.load(open(\"data/line_data.p\", \"rb\"))\n",
    "stanza_data = pickle.load(open(\"data/stanza_data.p\", \"rb\"))\n",
    "poem_data = pickle.load(open(\"data/poem_data.p\", \"rb\"))"
   ]
  },
  {
   "cell_type": "code",
   "execution_count": 3,
   "metadata": {},
   "outputs": [],
   "source": [
    "# Set all words to lower case\n",
    "for line in line_data:\n",
    "    for word_num, word in enumerate(line):\n",
    "        if word != \"I\":\n",
    "            line[word_num] = word.lower()\n",
    "        \n",
    "# Set all words to lower case\n",
    "for stanza in stanza_data:\n",
    "    for word_num, word in enumerate(stanza):\n",
    "        if word != \"I\":\n",
    "            stanza[word_num] = word.lower()\n",
    "            \n",
    "# Set all words to lower case\n",
    "for poem in poem_data:\n",
    "    for word_num, word in enumerate(poem):\n",
    "        if word != \"I\":\n",
    "            poem[word_num] = word.lower()"
   ]
  },
  {
   "cell_type": "code",
   "execution_count": 4,
   "metadata": {},
   "outputs": [],
   "source": [
    "# Takes in a list of 14 string arrays representing a poem.\n",
    "# Prints it out in a nice format, capitalizing the first letter\n",
    "# and identing couplet\n",
    "def print_poem(poem):\n",
    "    edited_poem = []\n",
    "    for i, line in enumerate(poem):\n",
    "        line[0] = string.capwords(line[0])\n",
    "        edited_poem.append(' '.join(line))\n",
    "    for i in range(12):\n",
    "        print(edited_poem[i])\n",
    "    print('\\t' + edited_poem[12])\n",
    "    print('\\t' + edited_poem[13])"
   ]
  },
  {
   "cell_type": "code",
   "execution_count": 5,
   "metadata": {},
   "outputs": [],
   "source": [
    "# Generates a poem given a HMM\n",
    "def generate_poem(HMM):\n",
    "    poem = []\n",
    "    for i in range(14):\n",
    "        line, _ = HMM.generate_emission(10)\n",
    "        poem.append(line)\n",
    "    print_poem(poem)"
   ]
  },
  {
   "cell_type": "code",
   "execution_count": 6,
   "metadata": {},
   "outputs": [],
   "source": [
    "HMM = unsupervised_HMM(line_data, 20, 50)"
   ]
  },
  {
   "cell_type": "code",
   "execution_count": 7,
   "metadata": {},
   "outputs": [],
   "source": [
    "generate_poem(HMM)"
   ]
  },
  {
   "cell_type": "code",
   "execution_count": 8,
   "metadata": {},
   "outputs": [],
   "source": [
    "HMM = unsupervised_HMM(stanza_data, 20, 50)"
   ]
  },
  {
   "cell_type": "code",
   "execution_count": 9,
   "metadata": {},
   "outputs": [],
   "source": [
    "generate_poem(HMM)"
   ]
  },
  {
   "cell_type": "code",
   "execution_count": 10,
   "metadata": {},
   "outputs": [
    {
     "name": "stdout",
     "output_type": "stream",
     "text": [
      "Iteration: 10\n",
      "Iteration: 20\n",
      "Iteration: 30\n",
      "Iteration: 40\n",
      "Iteration: 50\n"
     ]
    }
   ],
   "source": [
    "HMM = unsupervised_HMM(poem_data, 20, 50)"
   ]
  },
  {
   "cell_type": "code",
   "execution_count": 13,
   "metadata": {},
   "outputs": [
    {
     "name": "stdout",
     "output_type": "stream",
     "text": [
      "But worthless or strongly incapable\n",
      "Me thou alone triumph have if canker\n",
      "Verse from of vantage worship goodness live\n",
      "Rest like love's she sky your feeling the soul\n",
      "Spirits know then swear from helen's bier in\n",
      "Mightst state by where it teach me two he felt\n",
      "Not gentle body pursuit are love was\n",
      "Beauty be muse I eclipses in my\n",
      "In their that to your hast to one many's\n",
      "All these shall live what wantonness when now\n",
      "And time's for a before put the part and\n",
      "Chest at of my under deep how herald\n",
      "\tConfess it me presagers perforce by\n",
      "\tLove by coming ashes of the world friend\n"
     ]
    }
   ],
   "source": [
    "generate_poem(HMM)"
   ]
  },
  {
   "cell_type": "code",
   "execution_count": null,
   "metadata": {},
   "outputs": [],
   "source": []
  }
 ],
 "metadata": {
  "kernelspec": {
   "display_name": "Python 3",
   "language": "python",
   "name": "python3"
  },
  "language_info": {
   "codemirror_mode": {
    "name": "ipython",
    "version": 3
   },
   "file_extension": ".py",
   "mimetype": "text/x-python",
   "name": "python",
   "nbconvert_exporter": "python",
   "pygments_lexer": "ipython3",
   "version": "3.5.2"
  }
 },
 "nbformat": 4,
 "nbformat_minor": 2
}
