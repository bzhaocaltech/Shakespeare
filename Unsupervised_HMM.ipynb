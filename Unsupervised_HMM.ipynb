{
 "cells": [
  {
   "cell_type": "code",
   "execution_count": 32,
   "metadata": {},
   "outputs": [],
   "source": [
    "import pickle\n",
    "from HMM import *\n",
    "import string"
   ]
  },
  {
   "cell_type": "code",
   "execution_count": 37,
   "metadata": {},
   "outputs": [],
   "source": [
    "line_data = pickle.load(open(\"data/line_data.p\", \"rb\"))\n",
    "stanza_data = pickle.load(open(\"data/stanza_data.p\", \"rb\"))\n",
    "poem_data = pickle.load(open(\"data/poem_data.p\", \"rb\"))"
   ]
  },
  {
   "cell_type": "code",
   "execution_count": 38,
   "metadata": {},
   "outputs": [],
   "source": [
    "# Set all words to lower case\n",
    "for line in line_data:\n",
    "    for word_num, word in enumerate(line):\n",
    "        if word != \"I\":\n",
    "            line[word_num] = word.lower()\n",
    "        \n",
    "# Set all words to lower case\n",
    "for stanza in stanza_data:\n",
    "    for word_num, word in enumerate(stanza):\n",
    "        if word != \"I\":\n",
    "            stanza[word_num] = word.lower()\n",
    "            \n",
    "# Set all words to lower case\n",
    "for poem in poem_data:\n",
    "    for word_num, word in enumerate(poem):\n",
    "        if word != \"I\":\n",
    "            poem[word_num] = word.lower()"
   ]
  },
  {
   "cell_type": "code",
   "execution_count": 35,
   "metadata": {},
   "outputs": [],
   "source": [
    "# Takes in a list of 14 string arrays representing a poem.\n",
    "# Prints it out in a nice format, capitalizing the first letter\n",
    "# and identing couplet\n",
    "def print_poem(poem):\n",
    "    edited_poem = []\n",
    "    for i, line in enumerate(poem):\n",
    "        line[0] = string.capwords(line[0])\n",
    "        edited_poem.append(' '.join(line))\n",
    "    for i in range(12):\n",
    "        print(edited_poem[i])\n",
    "    print('\\t' + edited_poem[12])\n",
    "    print('\\t' + edited_poem[13])"
   ]
  },
  {
   "cell_type": "code",
   "execution_count": 16,
   "metadata": {},
   "outputs": [
    {
     "name": "stdout",
     "output_type": "stream",
     "text": [
      "Iteration: 10\n",
      "Iteration: 20\n",
      "Iteration: 30\n",
      "Iteration: 40\n",
      "Iteration: 50\n"
     ]
    }
   ],
   "source": [
    "HMM = unsupervised_HMM(line_data, 10, 50)"
   ]
  },
  {
   "cell_type": "code",
   "execution_count": 20,
   "metadata": {},
   "outputs": [
    {
     "name": "stdout",
     "output_type": "stream",
     "text": [
      "[['when', 'able', 'ordering;', 'thou', 'each', 'beauty', 'mine'], ['and', 'the', 'other', 'thine', 'jade', 'must', 'these'], ['why', 'that', 'your', 'and', 'were', 'for', 'praise'], ['and', 'refigured', 'age', 'on', 'as', 'false', 'if'], ['self-killed', 'so', 'to', 'to', 'it', 'cure', 'runs'], ['in', 'thine', 'please', 'made', 'breath', 'my', 'newer'], ['virtuous', 'want', 'both', 'to', 'fall', 'things', 'finds'], ['things', 'thrice', 'with', 'a', 'taught', 'thy', 'there'], ['gazing', 'triumphant', \"summer's\", 'i', 'i', 'then', 'stands'], ['forgot', 'be', 'pleasure', 'nature', 'i', 'from', 'salutation'], ['hold', 'thy', 'love', 'in', 'by', 'thy', 'will'], ['is', 'any', 'his', 'catch', 'yet', 'not', 'show'], [\"time's\", 'drop', 'lose', 'among', 'she', 'lips', 'in'], ['same', 'love', 'no', 'his', 'but', 'eyes', 'bird']]\n"
     ]
    }
   ],
   "source": [
    "poem = []\n",
    "for i in range(14):\n",
    "    line, _ = HMM.generate_emission(7)\n",
    "    poem.append(line)\n",
    "    \n",
    "print(poem)"
   ]
  },
  {
   "cell_type": "code",
   "execution_count": 27,
   "metadata": {},
   "outputs": [
    {
     "name": "stdout",
     "output_type": "stream",
     "text": [
      "Iteration: 10\n",
      "Iteration: 20\n",
      "Iteration: 30\n",
      "Iteration: 40\n",
      "Iteration: 50\n"
     ]
    }
   ],
   "source": [
    "HMM = unsupervised_HMM(stanza_data, 10, 50)"
   ]
  },
  {
   "cell_type": "code",
   "execution_count": 28,
   "metadata": {},
   "outputs": [
    {
     "name": "stdout",
     "output_type": "stream",
     "text": [
      "[['crow', 'cross', 'you', 'thy', 'with', 'by', 'when'], ['fair', 'weary', 'and', 'have', 'conscience', 'and', 'the'], ['win', 'do', 'now', 'nature', 'it', 'of', 'not'], ['from', 'do', 'for', \"love's\", 'spoil', 'and', 'a'], ['peace', 'why', 'lips', 'wires', 'lie', 'with', 'frost'], ['the', 'desired', 'of', 'prayers', 'asked', 'again', 'did'], ['purpose', 'such', 'will', 'sourly', 'still', 'for', 'save'], ['still', 'for', 'to-morrow', 'soul', 'to', 'precious', 'self'], ['mind', 'thee', 'when', 'made', 'have', 'tired', 'blunter'], ['mine', 'humble', 'knife', 'men', 'my', 'untrue', 'works'], ['now', 'are', 'and', 'but', 'as', 'your', 'with'], ['who', 'say', 'me', 'thou', \"here's\", 'thy', 'ornament'], ['thence', 'blame', 'up', 'the', 'black', 'did', 'every'], ['of', 'death', 'love', 'now', 'thee', 'self', 'than']]\n"
     ]
    }
   ],
   "source": [
    "poem = []\n",
    "for i in range(14):\n",
    "    line, _ = HMM.generate_emission(7)\n",
    "    poem.append(line)\n",
    "    \n",
    "print(poem)"
   ]
  },
  {
   "cell_type": "code",
   "execution_count": 36,
   "metadata": {},
   "outputs": [
    {
     "name": "stdout",
     "output_type": "stream",
     "text": [
      "Crow cross you thy with by when\n",
      "Fair weary and have conscience and the\n",
      "Win do now nature it of not\n",
      "From do for love's spoil and a\n",
      "Peace why lips wires lie with frost\n",
      "The desired of prayers asked again did\n",
      "Purpose such will sourly still for save\n",
      "Still for to-morrow soul to precious self\n",
      "Mind thee when made have tired blunter\n",
      "Mine humble knife men my untrue works\n",
      "Now are and but as your with\n",
      "Who say me thou here's thy ornament\n",
      "\tThence blame up the black did every\n",
      "\tOf death love now thee self than\n"
     ]
    }
   ],
   "source": [
    "print_poem(poem)"
   ]
  },
  {
   "cell_type": "code",
   "execution_count": 39,
   "metadata": {},
   "outputs": [
    {
     "name": "stdout",
     "output_type": "stream",
     "text": [
      "Iteration: 10\n",
      "Iteration: 20\n",
      "Iteration: 30\n",
      "Iteration: 40\n",
      "Iteration: 50\n"
     ]
    }
   ],
   "source": [
    "HMM = unsupervised_HMM(poem_data, 10, 50)"
   ]
  },
  {
   "cell_type": "code",
   "execution_count": 40,
   "metadata": {},
   "outputs": [
    {
     "name": "stdout",
     "output_type": "stream",
     "text": [
      "Rehearse each and thee by love before\n",
      "Pupil something feast and harvest mute thine\n",
      "Thou name face and trust! and receive\n",
      "Will is is say kind untrue thy\n",
      "Leave subjects a life legacy friends away\n",
      "Lives doth repay where best painful leaves\n",
      "Recounting it beauty use all thy come\n",
      "Which but been most some of time\n",
      "Surmount the very his will lies alone\n",
      "That you husband on a his begin\n",
      "Sense mad more thy from of but\n",
      "In kiss be nothing tires proves of\n",
      "\tThy thus ever course not which extreme\n",
      "\tMust thou now that as and then\n"
     ]
    }
   ],
   "source": [
    "poem = []\n",
    "for i in range(14):\n",
    "    line, _ = HMM.generate_emission(7)\n",
    "    poem.append(line)\n",
    "    \n",
    "print_poem(poem)"
   ]
  },
  {
   "cell_type": "code",
   "execution_count": null,
   "metadata": {},
   "outputs": [],
   "source": []
  }
 ],
 "metadata": {
  "kernelspec": {
   "display_name": "Python 3",
   "language": "python",
   "name": "python3"
  },
  "language_info": {
   "codemirror_mode": {
    "name": "ipython",
    "version": 3
   },
   "file_extension": ".py",
   "mimetype": "text/x-python",
   "name": "python",
   "nbconvert_exporter": "python",
   "pygments_lexer": "ipython3",
   "version": "3.5.2"
  }
 },
 "nbformat": 4,
 "nbformat_minor": 2
}
